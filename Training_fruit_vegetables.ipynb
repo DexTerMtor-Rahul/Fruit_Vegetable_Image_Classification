{
 "cells": [
  {
   "cell_type": "markdown",
   "metadata": {
    "id": "oEVBWJgngJJR"
   },
   "source": [
    "#Importing libraries"
   ]
  },
  {
   "cell_type": "code",
   "execution_count": 31,
   "metadata": {
    "id": "ycSY8L7YgaGw"
   },
   "outputs": [],
   "source": [
    "import tensorflow as tf\n",
    "import matplotlib.pyplot as plt"
   ]
  },
  {
   "cell_type": "markdown",
   "metadata": {
    "id": "tXU6T_PWgrDo"
   },
   "source": [
    "#Data Preprocessing\n"
   ]
  },
  {
   "cell_type": "markdown",
   "metadata": {
    "id": "JUid3gFLhkAA"
   },
   "source": [
    "###Traning Image preprocessing"
   ]
  },
  {
   "cell_type": "code",
   "execution_count": 3,
   "metadata": {
    "colab": {
     "base_uri": "https://localhost:8080/"
    },
    "id": "m5vOzDMIgylU",
    "outputId": "7b155600-68b8-4f04-8346-e4ea1f3d8237"
   },
   "outputs": [
    {
     "name": "stdout",
     "output_type": "stream",
     "text": [
      "Found 3115 files belonging to 36 classes.\n"
     ]
    }
   ],
   "source": [
    "training_set = tf.keras.utils.image_dataset_from_directory(\n",
    "    'fruit-and-vegetable-image-recognition/train',\n",
    "    labels = 'inferred',\n",
    "    label_mode = 'categorical',\n",
    "    class_names = None,\n",
    "    color_mode = 'rgb',\n",
    "    batch_size = 32,\n",
    "    image_size = (64,64),\n",
    "    shuffle = True,\n",
    "    seed = None,\n",
    "    validation_split = None,\n",
    "    subset = None,\n",
    "    interpolation = 'bilinear',\n",
    "    follow_links = False,\n",
    "    crop_to_aspect_ratio = False\n",
    ")"
   ]
  },
  {
   "cell_type": "markdown",
   "metadata": {
    "id": "lfZEKX6sXrL7"
   },
   "source": [
    "###validation image preprocessing"
   ]
  },
  {
   "cell_type": "code",
   "execution_count": 4,
   "metadata": {
    "colab": {
     "base_uri": "https://localhost:8080/"
    },
    "id": "jdUrAU2IXvr1",
    "outputId": "0fb0cc28-b72f-494a-f619-b2f183d961a9"
   },
   "outputs": [
    {
     "name": "stdout",
     "output_type": "stream",
     "text": [
      "Found 351 files belonging to 36 classes.\n"
     ]
    }
   ],
   "source": [
    "validation_set = tf.keras.utils.image_dataset_from_directory(\n",
    "    'fruit-and-vegetable-image-recognition/validation',\n",
    "    labels = 'inferred',\n",
    "    label_mode = 'categorical',\n",
    "    class_names = None,\n",
    "    color_mode = 'rgb',\n",
    "    batch_size = 32,\n",
    "    image_size = (64,64),\n",
    "    shuffle = True,\n",
    "    seed = None,\n",
    "    validation_split = None,\n",
    "    subset = None,\n",
    "    interpolation = 'bilinear',\n",
    "    follow_links = False,\n",
    "    crop_to_aspect_ratio = False\n",
    ")"
   ]
  },
  {
   "cell_type": "markdown",
   "metadata": {
    "id": "xcVSoynXZYsZ"
   },
   "source": [
    "#Building Model"
   ]
  },
  {
   "cell_type": "code",
   "execution_count": 5,
   "metadata": {
    "id": "ACaJsmPGd4SX"
   },
   "outputs": [
    {
     "name": "stdout",
     "output_type": "stream",
     "text": [
      "Epoch 1/30\n",
      "98/98 [==============================] - 19s 153ms/step - loss: 7.1219 - accuracy: 0.0501 - val_loss: 3.3481 - val_accuracy: 0.1225\n",
      "Epoch 2/30\n",
      "98/98 [==============================] - 16s 152ms/step - loss: 5.1205 - accuracy: 0.0770 - val_loss: 7.4000 - val_accuracy: 0.0883\n",
      "Epoch 3/30\n",
      "98/98 [==============================] - 17s 157ms/step - loss: 3.8872 - accuracy: 0.1274 - val_loss: 2.8758 - val_accuracy: 0.2735\n",
      "Epoch 4/30\n",
      "98/98 [==============================] - 17s 157ms/step - loss: 3.9024 - accuracy: 0.1547 - val_loss: 2.5898 - val_accuracy: 0.4359\n",
      "Epoch 5/30\n",
      "98/98 [==============================] - 17s 160ms/step - loss: 3.5151 - accuracy: 0.1968 - val_loss: 2.2634 - val_accuracy: 0.4587\n",
      "Epoch 6/30\n",
      "98/98 [==============================] - 17s 158ms/step - loss: 3.2191 - accuracy: 0.2565 - val_loss: 1.9439 - val_accuracy: 0.5014\n",
      "Epoch 7/30\n",
      "98/98 [==============================] - 17s 157ms/step - loss: 2.6509 - accuracy: 0.3210 - val_loss: 2.5307 - val_accuracy: 0.3020\n",
      "Epoch 8/30\n",
      "98/98 [==============================] - 16s 156ms/step - loss: 2.3513 - accuracy: 0.3910 - val_loss: 1.4204 - val_accuracy: 0.6553\n",
      "Epoch 9/30\n",
      "98/98 [==============================] - 16s 156ms/step - loss: 2.2714 - accuracy: 0.4639 - val_loss: 1.4358 - val_accuracy: 0.6980\n",
      "Epoch 10/30\n",
      "98/98 [==============================] - 17s 159ms/step - loss: 1.9303 - accuracy: 0.5371 - val_loss: 1.4996 - val_accuracy: 0.7407\n",
      "Epoch 11/30\n",
      "98/98 [==============================] - 17s 158ms/step - loss: 1.9490 - accuracy: 0.5708 - val_loss: 1.2711 - val_accuracy: 0.7892\n",
      "Epoch 12/30\n",
      "98/98 [==============================] - 16s 157ms/step - loss: 1.6290 - accuracy: 0.6096 - val_loss: 1.2686 - val_accuracy: 0.8177\n",
      "Epoch 13/30\n",
      "98/98 [==============================] - 16s 157ms/step - loss: 1.6196 - accuracy: 0.6449 - val_loss: 1.0228 - val_accuracy: 0.8718\n",
      "Epoch 14/30\n",
      "98/98 [==============================] - 17s 157ms/step - loss: 1.4306 - accuracy: 0.6754 - val_loss: 1.0825 - val_accuracy: 0.8632\n",
      "Epoch 15/30\n",
      "98/98 [==============================] - 17s 163ms/step - loss: 1.5362 - accuracy: 0.6960 - val_loss: 1.1345 - val_accuracy: 0.8547\n",
      "Epoch 16/30\n",
      "98/98 [==============================] - 17s 158ms/step - loss: 1.2309 - accuracy: 0.7329 - val_loss: 1.2377 - val_accuracy: 0.8519\n",
      "Epoch 17/30\n",
      "98/98 [==============================] - 17s 163ms/step - loss: 1.2732 - accuracy: 0.7425 - val_loss: 1.5760 - val_accuracy: 0.7009\n",
      "Epoch 18/30\n",
      "98/98 [==============================] - 18s 169ms/step - loss: 1.0735 - accuracy: 0.7730 - val_loss: 1.4447 - val_accuracy: 0.8803\n",
      "Epoch 19/30\n",
      "98/98 [==============================] - 18s 169ms/step - loss: 1.2450 - accuracy: 0.7791 - val_loss: 1.1489 - val_accuracy: 0.9117\n",
      "Epoch 20/30\n",
      "98/98 [==============================] - 18s 167ms/step - loss: 1.2054 - accuracy: 0.7888 - val_loss: 1.1949 - val_accuracy: 0.9430\n",
      "Epoch 21/30\n",
      "98/98 [==============================] - 18s 168ms/step - loss: 0.8787 - accuracy: 0.8193 - val_loss: 2.2366 - val_accuracy: 0.7436\n",
      "Epoch 22/30\n",
      "98/98 [==============================] - 18s 169ms/step - loss: 0.9317 - accuracy: 0.8141 - val_loss: 1.1771 - val_accuracy: 0.9402\n",
      "Epoch 23/30\n",
      "98/98 [==============================] - 18s 169ms/step - loss: 1.2134 - accuracy: 0.8154 - val_loss: 1.0088 - val_accuracy: 0.8803\n",
      "Epoch 24/30\n",
      "98/98 [==============================] - 17s 166ms/step - loss: 0.9867 - accuracy: 0.8295 - val_loss: 1.8421 - val_accuracy: 0.8034\n",
      "Epoch 25/30\n",
      "98/98 [==============================] - 17s 160ms/step - loss: 0.9206 - accuracy: 0.8421 - val_loss: 1.3298 - val_accuracy: 0.9516\n",
      "Epoch 26/30\n",
      "98/98 [==============================] - 17s 159ms/step - loss: 0.8792 - accuracy: 0.8494 - val_loss: 0.8760 - val_accuracy: 0.9316\n",
      "Epoch 27/30\n",
      "98/98 [==============================] - 16s 157ms/step - loss: 0.7606 - accuracy: 0.8697 - val_loss: 0.9795 - val_accuracy: 0.9573\n",
      "Epoch 28/30\n",
      "98/98 [==============================] - 17s 158ms/step - loss: 0.8179 - accuracy: 0.8604 - val_loss: 0.9347 - val_accuracy: 0.9402\n",
      "Epoch 29/30\n",
      "98/98 [==============================] - 17s 158ms/step - loss: 1.0006 - accuracy: 0.8562 - val_loss: 1.1763 - val_accuracy: 0.9459\n",
      "Epoch 30/30\n",
      "98/98 [==============================] - 17s 158ms/step - loss: 0.6506 - accuracy: 0.8905 - val_loss: 1.0874 - val_accuracy: 0.9516\n"
     ]
    }
   ],
   "source": [
    "with tf.device('/device:GPU:0'):\n",
    "     cnn = tf.keras.models.Sequential()\n",
    "     ###Building Convolution Layer\n",
    "     cnn.add(tf.keras.layers.Conv2D(filters=64,kernel_size=3,activation='relu',input_shape=(64,64,3)))\n",
    "     cnn.add(tf.keras.layers.MaxPool2D(pool_size=2,strides=2))\n",
    "     cnn.add(tf.keras.layers.Conv2D(filters=64,kernel_size=3,activation='relu'))\n",
    "     cnn.add(tf.keras.layers.MaxPool2D(pool_size=2,strides=2))\n",
    "     cnn.add(tf.keras.layers.Dropout(0.5)) #To avoid overfitting\n",
    "     cnn.add(tf.keras.layers.Flatten())\n",
    "     cnn.add(tf.keras.layers.Dense(units=128,activation='relu'))\n",
    "     cnn.add(tf.keras.layers.Dense(units=36,activation='softmax'))\n",
    "     ##Compiling and Training Phase\n",
    "     cnn.compile(optimizer='rmsprop',loss='categorical_crossentropy',metrics=['accuracy'])\n",
    "     training_history = cnn.fit(x=training_set,validation_data=validation_set,epochs=30)"
   ]
  },
  {
   "cell_type": "markdown",
   "metadata": {},
   "source": [
    "Saving Model"
   ]
  },
  {
   "cell_type": "code",
   "execution_count": 7,
   "metadata": {},
   "outputs": [],
   "source": [
    "     cnn.save('trained_model.h5')"
   ]
  },
  {
   "cell_type": "code",
   "execution_count": 12,
   "metadata": {},
   "outputs": [
    {
     "data": {
      "text/plain": [
       "{'loss': [7.121906280517578,\n",
       "  5.120465278625488,\n",
       "  3.887190341949463,\n",
       "  3.902374744415283,\n",
       "  3.5150668621063232,\n",
       "  3.2191150188446045,\n",
       "  2.6508591175079346,\n",
       "  2.3512966632843018,\n",
       "  2.271418809890747,\n",
       "  1.930277705192566,\n",
       "  1.9489668607711792,\n",
       "  1.6290099620819092,\n",
       "  1.6195827722549438,\n",
       "  1.4305624961853027,\n",
       "  1.536219835281372,\n",
       "  1.2309499979019165,\n",
       "  1.2731552124023438,\n",
       "  1.073509931564331,\n",
       "  1.244958519935608,\n",
       "  1.2053507566452026,\n",
       "  0.8787282705307007,\n",
       "  0.931659460067749,\n",
       "  1.2133783102035522,\n",
       "  0.9867075681686401,\n",
       "  0.9206293821334839,\n",
       "  0.8791765570640564,\n",
       "  0.7605543732643127,\n",
       "  0.81792813539505,\n",
       "  1.0006245374679565,\n",
       "  0.6505861878395081],\n",
       " 'accuracy': [0.05008025839924812,\n",
       "  0.07704655081033707,\n",
       "  0.12744782865047455,\n",
       "  0.15473514795303345,\n",
       "  0.1967897266149521,\n",
       "  0.25650081038475037,\n",
       "  0.3210272789001465,\n",
       "  0.39101123809814453,\n",
       "  0.4638844430446625,\n",
       "  0.5370786786079407,\n",
       "  0.5707865357398987,\n",
       "  0.609630823135376,\n",
       "  0.6449438333511353,\n",
       "  0.6754413843154907,\n",
       "  0.6959871649742126,\n",
       "  0.7329052686691284,\n",
       "  0.7425361275672913,\n",
       "  0.7730336785316467,\n",
       "  0.7791332006454468,\n",
       "  0.7887640595436096,\n",
       "  0.8192616105079651,\n",
       "  0.8141251802444458,\n",
       "  0.8154093027114868,\n",
       "  0.8295345306396484,\n",
       "  0.842054545879364,\n",
       "  0.8494381904602051,\n",
       "  0.8696629405021667,\n",
       "  0.8603531122207642,\n",
       "  0.8561797738075256,\n",
       "  0.8905296921730042],\n",
       " 'val_loss': [3.3480639457702637,\n",
       "  7.400031089782715,\n",
       "  2.8758132457733154,\n",
       "  2.589811086654663,\n",
       "  2.263352870941162,\n",
       "  1.9438915252685547,\n",
       "  2.5307228565216064,\n",
       "  1.4204407930374146,\n",
       "  1.4357725381851196,\n",
       "  1.4996243715286255,\n",
       "  1.2710739374160767,\n",
       "  1.2686039209365845,\n",
       "  1.022839903831482,\n",
       "  1.0824525356292725,\n",
       "  1.1344573497772217,\n",
       "  1.2377444505691528,\n",
       "  1.5759830474853516,\n",
       "  1.4447404146194458,\n",
       "  1.148882508277893,\n",
       "  1.1948543787002563,\n",
       "  2.2365949153900146,\n",
       "  1.177123785018921,\n",
       "  1.0088139772415161,\n",
       "  1.8420554399490356,\n",
       "  1.3298498392105103,\n",
       "  0.8759737610816956,\n",
       "  0.9794730544090271,\n",
       "  0.9346898794174194,\n",
       "  1.1762627363204956,\n",
       "  1.0874422788619995],\n",
       " 'val_accuracy': [0.12250712513923645,\n",
       "  0.0883190855383873,\n",
       "  0.2735042870044708,\n",
       "  0.43589743971824646,\n",
       "  0.45868945121765137,\n",
       "  0.5014244914054871,\n",
       "  0.30199429392814636,\n",
       "  0.6552706360816956,\n",
       "  0.6980056762695312,\n",
       "  0.7407407164573669,\n",
       "  0.7891737818717957,\n",
       "  0.8176637887954712,\n",
       "  0.8717948794364929,\n",
       "  0.8632478713989258,\n",
       "  0.8547008633613586,\n",
       "  0.8518518805503845,\n",
       "  0.7008547186851501,\n",
       "  0.8803418874740601,\n",
       "  0.9116809368133545,\n",
       "  0.9430199265480042,\n",
       "  0.7435897588729858,\n",
       "  0.94017094373703,\n",
       "  0.8803418874740601,\n",
       "  0.8034188151359558,\n",
       "  0.9515669345855713,\n",
       "  0.9316239356994629,\n",
       "  0.9572649598121643,\n",
       "  0.94017094373703,\n",
       "  0.945868968963623,\n",
       "  0.9515669345855713]}"
      ]
     },
     "execution_count": 12,
     "metadata": {},
     "output_type": "execute_result"
    }
   ],
   "source": [
    "training_history.history #returning dictionary of loss and accuracy"
   ]
  },
  {
   "cell_type": "code",
   "execution_count": 13,
   "metadata": {},
   "outputs": [],
   "source": [
    "#Recoding the training history\n",
    "import json\n",
    "with open('training_history.json','w') as f:\n",
    "    json.dump(str(training_history.history),f)"
   ]
  },
  {
   "cell_type": "markdown",
   "metadata": {},
   "source": [
    "Calculating Accuracy of Model achieved on validation data"
   ]
  },
  {
   "cell_type": "code",
   "execution_count": 19,
   "metadata": {},
   "outputs": [
    {
     "data": {
      "text/plain": [
       "dict_keys(['loss', 'accuracy', 'val_loss', 'val_accuracy'])"
      ]
     },
     "execution_count": 19,
     "metadata": {},
     "output_type": "execute_result"
    }
   ],
   "source": [
    "training_history.history.keys()"
   ]
  },
  {
   "cell_type": "code",
   "execution_count": 20,
   "metadata": {},
   "outputs": [
    {
     "name": "stdout",
     "output_type": "stream",
     "text": [
      "Validation set Accuracy 95.15669345855713% \n"
     ]
    }
   ],
   "source": [
    "print(\"Validation set Accuracy {}% \".format(training_history.history['val_accuracy'][-1] * 100)) #returning the last validation accuracy"
   ]
  },
  {
   "cell_type": "markdown",
   "metadata": {},
   "source": [
    "Accuracy visualization"
   ]
  },
  {
   "cell_type": "markdown",
   "metadata": {},
   "source": [
    "Training Visualization\n"
   ]
  },
  {
   "cell_type": "code",
   "execution_count": 29,
   "metadata": {},
   "outputs": [
    {
     "data": {
      "image/png": "[encoded data removed]",
      "text/plain": [
       "<Figure size 640x480 with 1 Axes>"
      ]
     },
     "metadata": {},
     "output_type": "display_data"
    }
   ],
   "source": [
    "epochs = [i for i in range(1,31)]\n",
    "plt.plot(epochs,training_history.history['accuracy'], color=\"red\")\n",
    "plt.title('Visualization of Training Accuracy Result')\n",
    "plt.xlabel('No of Epochs')\n",
    "plt.ylabel('Training Accuracy')\n",
    "plt.show()"
   ]
  },
  {
   "cell_type": "markdown",
   "metadata": {},
   "source": [
    "Validation Accuracy Visualization"
   ]
  },
  {
   "cell_type": "code",
   "execution_count": 30,
   "metadata": {},
   "outputs": [
    {
     "data": {
      "image/png": "[encoded data removed]",
      "text/plain": [
       "<Figure size 640x480 with 1 Axes>"
      ]
     },
     "metadata": {},
     "output_type": "display_data"
    }
   ],
   "source": [
    "plt.plot(epochs,training_history.history['val_accuracy'], color=\"blue\")\n",
    "plt.title('Visualization of Validation Accuracy Result')\n",
    "plt.xlabel('No of Epochs')\n",
    "plt.ylabel('Validation Accuracy')\n",
    "plt.show()"
   ]
  },
  {
   "cell_type": "code",
   "execution_count": null,
   "metadata": {},
   "outputs": [],
   "source": []
  }
 ],
 "metadata": {
  "colab": {
   "provenance": []
  },
  "kernelspec": {
   "display_name": "Python 3 (ipykernel)",
   "language": "python",
   "name": "python3"
  },
  "language_info": {
   "codemirror_mode": {
    "name": "ipython",
    "version": 3
   },
   "file_extension": ".py",
   "mimetype": "text/x-python",
   "name": "python",
   "nbconvert_exporter": "python",
   "pygments_lexer": "ipython3",
   "version": "3.10.14"
  }
 },
 "nbformat": 4,
 "nbformat_minor": 4
}
