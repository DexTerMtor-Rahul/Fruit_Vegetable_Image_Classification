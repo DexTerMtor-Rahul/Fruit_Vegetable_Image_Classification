{
 "cells": [
  {
   "cell_type": "markdown",
   "metadata": {
    "id": "oEVBWJgngJJR"
   },
   "source": [
    "#Importing libraries"
   ]
  },
  {
   "cell_type": "code",
   "execution_count": 2,
   "metadata": {
    "id": "ycSY8L7YgaGw"
   },
   "outputs": [],
   "source": [
    "import tensorflow as tf\n",
    "import matplotlib.pyplot as plt"
   ]
  },
  {
   "cell_type": "markdown",
   "metadata": {
    "id": "tXU6T_PWgrDo"
   },
   "source": [
    "#Data Preprocessing\n"
   ]
  },
  {
   "cell_type": "markdown",
   "metadata": {
    "id": "JUid3gFLhkAA"
   },
   "source": [
    "###Traning Image preprocessing"
   ]
  },
  {
   "cell_type": "code",
   "execution_count": 3,
   "metadata": {
    "colab": {
     "base_uri": "https://localhost:8080/"
    },
    "id": "m5vOzDMIgylU",
    "outputId": "7b155600-68b8-4f04-8346-e4ea1f3d8237"
   },
   "outputs": [
    {
     "name": "stdout",
     "output_type": "stream",
     "text": [
      "Found 3115 files belonging to 36 classes.\n"
     ]
    }
   ],
   "source": [
    "training_set = tf.keras.utils.image_dataset_from_directory(\n",
    "    'fruit-and-vegetable-image-recognition/train',\n",
    "    labels = 'inferred',\n",
    "    label_mode = 'categorical',\n",
    "    class_names = None,\n",
    "    color_mode = 'rgb',\n",
    "    batch_size = 32,\n",
    "    image_size = (64,64),\n",
    "    shuffle = True,\n",
    "    seed = None,\n",
    "    validation_split = None,\n",
    "    subset = None,\n",
    "    interpolation = 'bilinear',\n",
    "    follow_links = False,\n",
    "    crop_to_aspect_ratio = False\n",
    ")"
   ]
  },
  {
   "cell_type": "markdown",
   "metadata": {
    "id": "lfZEKX6sXrL7"
   },
   "source": [
    "###validation image preprocessing"
   ]
  },
  {
   "cell_type": "code",
   "execution_count": 4,
   "metadata": {
    "colab": {
     "base_uri": "https://localhost:8080/"
    },
    "id": "jdUrAU2IXvr1",
    "outputId": "0fb0cc28-b72f-494a-f619-b2f183d961a9"
   },
   "outputs": [
    {
     "name": "stdout",
     "output_type": "stream",
     "text": [
      "Found 351 files belonging to 36 classes.\n"
     ]
    }
   ],
   "source": [
    "validation_set = tf.keras.utils.image_dataset_from_directory(\n",
    "    'fruit-and-vegetable-image-recognition/validation',\n",
    "    labels = 'inferred',\n",
    "    label_mode = 'categorical',\n",
    "    class_names = None,\n",
    "    color_mode = 'rgb',\n",
    "    batch_size = 32,\n",
    "    image_size = (64,64),\n",
    "    shuffle = True,\n",
    "    seed = None,\n",
    "    validation_split = None,\n",
    "    subset = None,\n",
    "    interpolation = 'bilinear',\n",
    "    follow_links = False,\n",
    "    crop_to_aspect_ratio = False\n",
    ")"
   ]
  },
  {
   "cell_type": "markdown",
   "metadata": {
    "id": "xcVSoynXZYsZ"
   },
   "source": [
    "#Building Model"
   ]
  },
  {
   "cell_type": "code",
   "execution_count": 8,
   "metadata": {
    "id": "ACaJsmPGd4SX"
   },
   "outputs": [
    {
     "name": "stdout",
     "output_type": "stream",
     "text": [
      "Model: \"sequential_3\"\n",
      "_________________________________________________________________\n",
      " Layer (type)                Output Shape              Param #   \n",
      "=================================================================\n",
      " conv2d_10 (Conv2D)          (None, 64, 64, 32)        896       \n",
      "                                                                 \n",
      " conv2d_11 (Conv2D)          (None, 62, 62, 32)        9248      \n",
      "                                                                 \n",
      " max_pooling2d_6 (MaxPooling  (None, 31, 31, 32)       0         \n",
      " 2D)                                                             \n",
      "                                                                 \n",
      " dropout_3 (Dropout)         (None, 31, 31, 32)        0         \n",
      "                                                                 \n",
      " conv2d_12 (Conv2D)          (None, 31, 31, 64)        18496     \n",
      "                                                                 \n",
      " conv2d_13 (Conv2D)          (None, 29, 29, 64)        36928     \n",
      "                                                                 \n",
      " max_pooling2d_7 (MaxPooling  (None, 14, 14, 64)       0         \n",
      " 2D)                                                             \n",
      "                                                                 \n",
      " dropout_4 (Dropout)         (None, 14, 14, 64)        0         \n",
      "                                                                 \n",
      " flatten_3 (Flatten)         (None, 12544)             0         \n",
      "                                                                 \n",
      " dense_8 (Dense)             (None, 512)               6423040   \n",
      "                                                                 \n",
      " dense_9 (Dense)             (None, 256)               131328    \n",
      "                                                                 \n",
      " dropout_5 (Dropout)         (None, 256)               0         \n",
      "                                                                 \n",
      " dense_10 (Dense)            (None, 36)                9252      \n",
      "                                                                 \n",
      "=================================================================\n",
      "Total params: 6,629,188\n",
      "Trainable params: 6,629,188\n",
      "Non-trainable params: 0\n",
      "_________________________________________________________________\n",
      "Epoch 1/33\n",
      "98/98 [==============================] - 17s 150ms/step - loss: 8.1839 - accuracy: 0.0263 - val_loss: 3.5829 - val_accuracy: 0.0228\n",
      "Epoch 2/33\n",
      "98/98 [==============================] - 15s 145ms/step - loss: 3.5811 - accuracy: 0.0334 - val_loss: 3.5746 - val_accuracy: 0.0399\n",
      "Epoch 3/33\n",
      "98/98 [==============================] - 15s 145ms/step - loss: 3.5755 - accuracy: 0.0395 - val_loss: 3.5742 - val_accuracy: 0.0427\n",
      "Epoch 4/33\n",
      "98/98 [==============================] - 15s 145ms/step - loss: 3.5193 - accuracy: 0.0555 - val_loss: 3.5226 - val_accuracy: 0.0712\n",
      "Epoch 5/33\n",
      "98/98 [==============================] - 15s 143ms/step - loss: 3.4276 - accuracy: 0.0767 - val_loss: 3.2191 - val_accuracy: 0.1311\n",
      "Epoch 6/33\n",
      "98/98 [==============================] - 16s 149ms/step - loss: 3.2089 - accuracy: 0.1127 - val_loss: 2.7519 - val_accuracy: 0.2564\n",
      "Epoch 7/33\n",
      "98/98 [==============================] - 16s 146ms/step - loss: 3.0641 - accuracy: 0.1300 - val_loss: 2.5708 - val_accuracy: 0.2991\n",
      "Epoch 8/33\n",
      "52/98 [==============>...............] - ETA: 5s - loss: 2.8063 - accuracy: 0.1977"
     ]
    }
   ],
   "source": [
    "with tf.device('/device:GPU:0'):\n",
    "     cnn = tf.keras.models.Sequential()\n",
    "     ###Building Convolution Layer\n",
    "     cnn.add(tf.keras.layers.Conv2D(filters=32,kernel_size=3,padding='same',activation='relu',input_shape=[64,64,3]))\n",
    "     cnn.add(tf.keras.layers.Conv2D(filters=32,kernel_size=3,activation='relu'))\n",
    "     cnn.add(tf.keras.layers.MaxPool2D(pool_size=2,strides=2))\n",
    "     cnn.add(tf.keras.layers.Dropout(0.25))\n",
    "     \n",
    "     cnn.add(tf.keras.layers.Conv2D(filters=64,kernel_size=3,padding='same',activation='relu'))\n",
    "     cnn.add(tf.keras.layers.Conv2D(filters=64,kernel_size=3,activation='relu'))\n",
    "     cnn.add(tf.keras.layers.MaxPool2D(pool_size=2,strides=2))\n",
    "     cnn.add(tf.keras.layers.Dropout(0.25))\n",
    "\n",
    "     cnn.add(tf.keras.layers.Flatten())\n",
    "     cnn.add(tf.keras.layers.Dense(units=512,activation='relu'))\n",
    "     cnn.add(tf.keras.layers.Dense(units=256,activation='relu'))\n",
    "     \n",
    "     cnn.add(tf.keras.layers.Dropout(0.5)) #To avoid overfitting\n",
    "     \n",
    "     #Outer Layer\n",
    "     cnn.add(tf.keras.layers.Dense(units=36,activation='softmax'))\n",
    "     \n",
    "     ##Compiling and Training Phase\n",
    "     cnn.compile(optimizer='adam',loss='categorical_crossentropy',metrics=['accuracy'])\n",
    "     cnn.summary()\n",
    "     training_history = cnn.fit(x=training_set,validation_data=validation_set,epochs=33)"
   ]
  },
  {
   "cell_type": "markdown",
   "metadata": {},
   "source": [
    "Saving Model"
   ]
  },
  {
   "cell_type": "code",
   "execution_count": null,
   "metadata": {},
   "outputs": [],
   "source": [
    "cnn.save('trained_model.h5')"
   ]
  },
  {
   "cell_type": "code",
   "execution_count": null,
   "metadata": {},
   "outputs": [
    {
     "data": {
      "text/plain": [
       "{'loss': [6.56768798828125,\n",
       "  3.578012466430664,\n",
       "  3.555244207382202,\n",
       "  3.51578426361084,\n",
       "  3.5146942138671875,\n",
       "  3.4017531871795654,\n",
       "  3.335704803466797,\n",
       "  3.169743776321411,\n",
       "  2.9924609661102295,\n",
       "  2.874785900115967,\n",
       "  2.70369815826416,\n",
       "  2.5118765830993652,\n",
       "  2.4244275093078613,\n",
       "  2.273108720779419,\n",
       "  2.165255546569824,\n",
       "  2.0472004413604736,\n",
       "  1.9189069271087646,\n",
       "  1.7777467966079712,\n",
       "  1.7569639682769775,\n",
       "  1.7099107503890991,\n",
       "  1.5526729822158813,\n",
       "  1.5532690286636353,\n",
       "  1.4634974002838135,\n",
       "  1.3930227756500244,\n",
       "  1.2884634733200073,\n",
       "  1.2414586544036865,\n",
       "  1.1953978538513184,\n",
       "  1.0864191055297852,\n",
       "  1.0771055221557617,\n",
       "  0.9479728937149048,\n",
       "  0.9319179058074951,\n",
       "  0.9445487260818481],\n",
       " 'accuracy': [0.03852327540516853,\n",
       "  0.03338683769106865,\n",
       "  0.04686998575925827,\n",
       "  0.05714285746216774,\n",
       "  0.056179776787757874,\n",
       "  0.08571428805589676,\n",
       "  0.1004815399646759,\n",
       "  0.12937399744987488,\n",
       "  0.18202246725559235,\n",
       "  0.20288924872875214,\n",
       "  0.24783307313919067,\n",
       "  0.30401283502578735,\n",
       "  0.3351524770259857,\n",
       "  0.36853933334350586,\n",
       "  0.3961476683616638,\n",
       "  0.43467095494270325,\n",
       "  0.46260032057762146,\n",
       "  0.5043338537216187,\n",
       "  0.5046548843383789,\n",
       "  0.5322632193565369,\n",
       "  0.5634028911590576,\n",
       "  0.5704655051231384,\n",
       "  0.5861958265304565,\n",
       "  0.617977499961853,\n",
       "  0.6359550356864929,\n",
       "  0.6603531241416931,\n",
       "  0.6654895544052124,\n",
       "  0.702407717704773,\n",
       "  0.7020866870880127,\n",
       "  0.7370786666870117,\n",
       "  0.742215096950531,\n",
       "  0.7531300187110901],\n",
       " 'val_loss': [3.5635242462158203,\n",
       "  3.5455851554870605,\n",
       "  3.556432008743286,\n",
       "  3.560364246368408,\n",
       "  3.371065139770508,\n",
       "  3.1781747341156006,\n",
       "  3.0594983100891113,\n",
       "  2.8576722145080566,\n",
       "  2.6774137020111084,\n",
       "  2.466057062149048,\n",
       "  2.239248514175415,\n",
       "  2.2263593673706055,\n",
       "  2.0521583557128906,\n",
       "  1.9338114261627197,\n",
       "  1.8757059574127197,\n",
       "  1.792584776878357,\n",
       "  1.6340017318725586,\n",
       "  1.63838791847229,\n",
       "  1.6396503448486328,\n",
       "  1.550443172454834,\n",
       "  1.5358874797821045,\n",
       "  1.462334156036377,\n",
       "  1.360758662223816,\n",
       "  1.3474655151367188,\n",
       "  1.43235445022583,\n",
       "  1.57224440574646,\n",
       "  1.2799983024597168,\n",
       "  1.403298020362854,\n",
       "  1.0709583759307861,\n",
       "  1.1343426704406738,\n",
       "  1.1148529052734375,\n",
       "  0.9449640512466431],\n",
       " 'val_accuracy': [0.03988603875041008,\n",
       "  0.054131053388118744,\n",
       "  0.03988603875041008,\n",
       "  0.03988603875041008,\n",
       "  0.11965811997652054,\n",
       "  0.16809116303920746,\n",
       "  0.19088318943977356,\n",
       "  0.27635326981544495,\n",
       "  0.3162393271923065,\n",
       "  0.37037035822868347,\n",
       "  0.404558390378952,\n",
       "  0.43304842710494995,\n",
       "  0.45584046840667725,\n",
       "  0.4871794879436493,\n",
       "  0.5099714994430542,\n",
       "  0.5213675498962402,\n",
       "  0.5811966061592102,\n",
       "  0.5641025900840759,\n",
       "  0.5754985809326172,\n",
       "  0.6239316463470459,\n",
       "  0.62678062915802,\n",
       "  0.6609686613082886,\n",
       "  0.68660968542099,\n",
       "  0.7008547186851501,\n",
       "  0.6980056762695312,\n",
       "  0.6638176441192627,\n",
       "  0.7150996923446655,\n",
       "  0.6951566934585571,\n",
       "  0.7578347325325012,\n",
       "  0.7407407164573669,\n",
       "  0.7492877244949341,\n",
       "  0.7920227646827698]}"
      ]
     },
     "execution_count": 93,
     "metadata": {},
     "output_type": "execute_result"
    }
   ],
   "source": [
    "training_history.history #returning dictionary of loss and accuracy"
   ]
  },
  {
   "cell_type": "code",
   "execution_count": null,
   "metadata": {},
   "outputs": [],
   "source": [
    "#Recoding the training history\n",
    "import json\n",
    "with open('training_history.json','w') as f:\n",
    "    json.dump(str(training_history.history),f)"
   ]
  },
  {
   "cell_type": "markdown",
   "metadata": {},
   "source": [
    "Calculating Accuracy of Model achieved on validation data"
   ]
  },
  {
   "cell_type": "code",
   "execution_count": null,
   "metadata": {},
   "outputs": [
    {
     "data": {
      "text/plain": [
       "dict_keys(['loss', 'accuracy', 'val_loss', 'val_accuracy'])"
      ]
     },
     "execution_count": 95,
     "metadata": {},
     "output_type": "execute_result"
    }
   ],
   "source": [
    "training_history.history.keys()"
   ]
  },
  {
   "cell_type": "code",
   "execution_count": null,
   "metadata": {},
   "outputs": [
    {
     "name": "stdout",
     "output_type": "stream",
     "text": [
      "Validation set Accuracy 79.20227646827698% \n"
     ]
    }
   ],
   "source": [
    "print(\"Validation set Accuracy {}% \".format(training_history.history['val_accuracy'][-1] * 100)) #returning the last validation accuracy"
   ]
  },
  {
   "cell_type": "markdown",
   "metadata": {},
   "source": [
    "Accuracy visualization"
   ]
  },
  {
   "cell_type": "markdown",
   "metadata": {},
   "source": [
    "Training Visualization\n"
   ]
  },
  {
   "cell_type": "code",
   "execution_count": null,
   "metadata": {},
   "outputs": [
    {
     "data": {
      "image/png": "[encoded data removed]",
      "text/plain": [
       "<Figure size 640x480 with 1 Axes>"
      ]
     },
     "metadata": {},
     "output_type": "display_data"
    }
   ],
   "source": [
    "epochs = [i for i in range(1,33)]\n",
    "plt.plot(epochs,training_history.history['accuracy'], color=\"red\")\n",
    "plt.title('Visualization of Training Accuracy Result')\n",
    "plt.xlabel('No of Epochs')\n",
    "plt.ylabel('Training Accuracy')\n",
    "plt.show()"
   ]
  },
  {
   "cell_type": "markdown",
   "metadata": {},
   "source": [
    "Validation Accuracy Visualization"
   ]
  },
  {
   "cell_type": "code",
   "execution_count": null,
   "metadata": {},
   "outputs": [
    {
     "data": {
      "image/png": "[encoded data removed]",
      "text/plain": [
       "<Figure size 640x480 with 1 Axes>"
      ]
     },
     "metadata": {},
     "output_type": "display_data"
    }
   ],
   "source": [
    "plt.plot(epochs,training_history.history['val_accuracy'], color=\"blue\")\n",
    "plt.title('Visualization of Validation Accuracy Result')\n",
    "plt.xlabel('No of Epochs')\n",
    "plt.ylabel('Validation Accuracy')\n",
    "plt.show()"
   ]
  },
  {
   "cell_type": "code",
   "execution_count": null,
   "metadata": {},
   "outputs": [],
   "source": []
  }
 ],
 "metadata": {
  "colab": {
   "provenance": []
  },
  "kernelspec": {
   "display_name": "Python 3 (ipykernel)",
   "language": "python",
   "name": "python3"
  },
  "language_info": {
   "codemirror_mode": {
    "name": "ipython",
    "version": 3
   },
   "file_extension": ".py",
   "mimetype": "text/x-python",
   "name": "python",
   "nbconvert_exporter": "python",
   "pygments_lexer": "ipython3",
   "version": "3.10.14"
  }
 },
 "nbformat": 4,
 "nbformat_minor": 4
}
