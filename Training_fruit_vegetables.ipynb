{
  "cells": [
    {
      "cell_type": "markdown",
      "metadata": {
        "id": "oEVBWJgngJJR"
      },
      "source": [
        "#Importing libraries"
      ]
    },
    {
      "cell_type": "code",
      "execution_count": 1,
      "metadata": {
        "id": "ycSY8L7YgaGw"
      },
      "outputs": [
        {
          "name": "stderr",
          "output_type": "stream",
          "text": [
            "ERROR:root:Internal Python error in the inspect module.\n",
            "Below is the traceback from this internal error.\n",
            "\n",
            "ERROR:root:Internal Python error in the inspect module.\n",
            "Below is the traceback from this internal error.\n",
            "\n",
            "ERROR:root:Internal Python error in the inspect module.\n",
            "Below is the traceback from this internal error.\n",
            "\n"
          ]
        },
        {
          "name": "stdout",
          "output_type": "stream",
          "text": [
            "Traceback (most recent call last):\n",
            "  File \"c:\\Users\\DexTerMtor\\.conda\\envs\\Tensorflow_env\\lib\\site-packages\\IPython\\core\\interactiveshell.py\", line 3343, in run_code\n",
            "    exec(code_obj, self.user_global_ns, self.user_ns)\n",
            "  File \"<ipython-input-1-474784adfc80>\", line 3, in <module>\n",
            "    import matplotlib.pyplot as plt\n",
            "ModuleNotFoundError: No module named 'matplotlib'\n",
            "\n",
            "During handling of the above exception, another exception occurred:\n",
            "\n",
            "Traceback (most recent call last):\n",
            "  File \"c:\\Users\\DexTerMtor\\.conda\\envs\\Tensorflow_env\\lib\\site-packages\\IPython\\core\\interactiveshell.py\", line 2044, in showtraceback\n",
            "    stb = value._render_traceback_()\n",
            "AttributeError: 'ModuleNotFoundError' object has no attribute '_render_traceback_'\n",
            "\n",
            "During handling of the above exception, another exception occurred:\n",
            "\n",
            "Traceback (most recent call last):\n",
            "  File \"c:\\Users\\DexTerMtor\\.conda\\envs\\Tensorflow_env\\lib\\site-packages\\IPython\\core\\ultratb.py\", line 1169, in get_records\n",
            "    return _fixed_getinnerframes(etb, number_of_lines_of_context, tb_offset)\n",
            "  File \"c:\\Users\\DexTerMtor\\.conda\\envs\\Tensorflow_env\\lib\\site-packages\\IPython\\core\\ultratb.py\", line 316, in wrapped\n",
            "    return f(*args, **kwargs)\n",
            "  File \"c:\\Users\\DexTerMtor\\.conda\\envs\\Tensorflow_env\\lib\\site-packages\\IPython\\core\\ultratb.py\", line 350, in _fixed_getinnerframes\n",
            "    records = fix_frame_records_filenames(inspect.getinnerframes(etb, context))\n",
            "  File \"c:\\Users\\DexTerMtor\\.conda\\envs\\Tensorflow_env\\lib\\inspect.py\", line 1490, in getinnerframes\n",
            "    frameinfo = (tb.tb_frame,) + getframeinfo(tb, context)\n",
            "  File \"c:\\Users\\DexTerMtor\\.conda\\envs\\Tensorflow_env\\lib\\inspect.py\", line 1448, in getframeinfo\n",
            "    filename = getsourcefile(frame) or getfile(frame)\n",
            "  File \"c:\\Users\\DexTerMtor\\.conda\\envs\\Tensorflow_env\\lib\\inspect.py\", line 696, in getsourcefile\n",
            "    if getattr(getmodule(object, filename), '__loader__', None) is not None:\n",
            "  File \"c:\\Users\\DexTerMtor\\.conda\\envs\\Tensorflow_env\\lib\\inspect.py\", line 733, in getmodule\n",
            "    if ismodule(module) and hasattr(module, '__file__'):\n",
            "  File \"c:\\Users\\DexTerMtor\\.conda\\envs\\Tensorflow_env\\lib\\site-packages\\tensorflow\\__init__.py\", line 50, in __getattr__\n",
            "    module = self._load()\n",
            "  File \"c:\\Users\\DexTerMtor\\.conda\\envs\\Tensorflow_env\\lib\\site-packages\\tensorflow\\__init__.py\", line 44, in _load\n",
            "    module = _importlib.import_module(self.__name__)\n",
            "  File \"c:\\Users\\DexTerMtor\\.conda\\envs\\Tensorflow_env\\lib\\importlib\\__init__.py\", line 126, in import_module\n",
            "    return _bootstrap._gcd_import(name[level:], package, level)\n",
            "  File \"<frozen importlib._bootstrap>\", line 994, in _gcd_import\n",
            "  File \"<frozen importlib._bootstrap>\", line 971, in _find_and_load\n",
            "  File \"<frozen importlib._bootstrap>\", line 953, in _find_and_load_unlocked\n",
            "ModuleNotFoundError: No module named 'tensorflow_core.estimator'\n",
            "Traceback (most recent call last):\n",
            "  File \"c:\\Users\\DexTerMtor\\.conda\\envs\\Tensorflow_env\\lib\\site-packages\\IPython\\core\\interactiveshell.py\", line 3343, in run_code\n",
            "    exec(code_obj, self.user_global_ns, self.user_ns)\n",
            "  File \"<ipython-input-1-474784adfc80>\", line 3, in <module>\n",
            "    import matplotlib.pyplot as plt\n",
            "ModuleNotFoundError: No module named 'matplotlib'\n",
            "\n",
            "During handling of the above exception, another exception occurred:\n",
            "\n",
            "Traceback (most recent call last):\n",
            "  File \"c:\\Users\\DexTerMtor\\.conda\\envs\\Tensorflow_env\\lib\\site-packages\\IPython\\core\\interactiveshell.py\", line 2044, in showtraceback\n",
            "    stb = value._render_traceback_()\n",
            "AttributeError: 'ModuleNotFoundError' object has no attribute '_render_traceback_'\n",
            "\n",
            "During handling of the above exception, another exception occurred:\n",
            "\n",
            "Traceback (most recent call last):\n",
            "  File \"c:\\Users\\DexTerMtor\\.conda\\envs\\Tensorflow_env\\lib\\site-packages\\IPython\\core\\interactiveshell.py\", line 3263, in run_ast_nodes\n",
            "    if (await self.run_code(code, result,  async_=asy)):\n",
            "  File \"c:\\Users\\DexTerMtor\\.conda\\envs\\Tensorflow_env\\lib\\site-packages\\IPython\\core\\interactiveshell.py\", line 3360, in run_code\n",
            "    self.showtraceback(running_compiled_code=True)\n",
            "  File \"c:\\Users\\DexTerMtor\\.conda\\envs\\Tensorflow_env\\lib\\site-packages\\IPython\\core\\interactiveshell.py\", line 2047, in showtraceback\n",
            "    value, tb, tb_offset=tb_offset)\n",
            "  File \"c:\\Users\\DexTerMtor\\.conda\\envs\\Tensorflow_env\\lib\\site-packages\\IPython\\core\\ultratb.py\", line 1436, in structured_traceback\n",
            "    self, etype, value, tb, tb_offset, number_of_lines_of_context)\n",
            "  File \"c:\\Users\\DexTerMtor\\.conda\\envs\\Tensorflow_env\\lib\\site-packages\\IPython\\core\\ultratb.py\", line 1336, in structured_traceback\n",
            "    self, etype, value, tb, tb_offset, number_of_lines_of_context\n",
            "  File \"c:\\Users\\DexTerMtor\\.conda\\envs\\Tensorflow_env\\lib\\site-packages\\IPython\\core\\ultratb.py\", line 1193, in structured_traceback\n",
            "    tb_offset)\n",
            "  File \"c:\\Users\\DexTerMtor\\.conda\\envs\\Tensorflow_env\\lib\\site-packages\\IPython\\core\\ultratb.py\", line 1150, in format_exception_as_a_whole\n",
            "    last_unique, recursion_repeat = find_recursion(orig_etype, evalue, records)\n",
            "  File \"c:\\Users\\DexTerMtor\\.conda\\envs\\Tensorflow_env\\lib\\site-packages\\IPython\\core\\ultratb.py\", line 451, in find_recursion\n",
            "    return len(records), 0\n",
            "TypeError: object of type 'NoneType' has no len()\n",
            "\n",
            "During handling of the above exception, another exception occurred:\n",
            "\n",
            "Traceback (most recent call last):\n",
            "  File \"c:\\Users\\DexTerMtor\\.conda\\envs\\Tensorflow_env\\lib\\site-packages\\IPython\\core\\interactiveshell.py\", line 2044, in showtraceback\n",
            "    stb = value._render_traceback_()\n",
            "AttributeError: 'TypeError' object has no attribute '_render_traceback_'\n",
            "\n",
            "During handling of the above exception, another exception occurred:\n",
            "\n",
            "Traceback (most recent call last):\n",
            "  File \"c:\\Users\\DexTerMtor\\.conda\\envs\\Tensorflow_env\\lib\\site-packages\\IPython\\core\\ultratb.py\", line 1169, in get_records\n",
            "    return _fixed_getinnerframes(etb, number_of_lines_of_context, tb_offset)\n",
            "  File \"c:\\Users\\DexTerMtor\\.conda\\envs\\Tensorflow_env\\lib\\site-packages\\IPython\\core\\ultratb.py\", line 316, in wrapped\n",
            "    return f(*args, **kwargs)\n",
            "  File \"c:\\Users\\DexTerMtor\\.conda\\envs\\Tensorflow_env\\lib\\site-packages\\IPython\\core\\ultratb.py\", line 350, in _fixed_getinnerframes\n",
            "    records = fix_frame_records_filenames(inspect.getinnerframes(etb, context))\n",
            "  File \"c:\\Users\\DexTerMtor\\.conda\\envs\\Tensorflow_env\\lib\\inspect.py\", line 1490, in getinnerframes\n",
            "    frameinfo = (tb.tb_frame,) + getframeinfo(tb, context)\n",
            "  File \"c:\\Users\\DexTerMtor\\.conda\\envs\\Tensorflow_env\\lib\\inspect.py\", line 1448, in getframeinfo\n",
            "    filename = getsourcefile(frame) or getfile(frame)\n",
            "  File \"c:\\Users\\DexTerMtor\\.conda\\envs\\Tensorflow_env\\lib\\inspect.py\", line 696, in getsourcefile\n",
            "    if getattr(getmodule(object, filename), '__loader__', None) is not None:\n",
            "  File \"c:\\Users\\DexTerMtor\\.conda\\envs\\Tensorflow_env\\lib\\inspect.py\", line 733, in getmodule\n",
            "    if ismodule(module) and hasattr(module, '__file__'):\n",
            "  File \"c:\\Users\\DexTerMtor\\.conda\\envs\\Tensorflow_env\\lib\\site-packages\\tensorflow\\__init__.py\", line 50, in __getattr__\n",
            "    module = self._load()\n",
            "  File \"c:\\Users\\DexTerMtor\\.conda\\envs\\Tensorflow_env\\lib\\site-packages\\tensorflow\\__init__.py\", line 44, in _load\n",
            "    module = _importlib.import_module(self.__name__)\n",
            "  File \"c:\\Users\\DexTerMtor\\.conda\\envs\\Tensorflow_env\\lib\\importlib\\__init__.py\", line 126, in import_module\n",
            "    return _bootstrap._gcd_import(name[level:], package, level)\n",
            "  File \"<frozen importlib._bootstrap>\", line 994, in _gcd_import\n",
            "  File \"<frozen importlib._bootstrap>\", line 971, in _find_and_load\n",
            "  File \"<frozen importlib._bootstrap>\", line 953, in _find_and_load_unlocked\n",
            "ModuleNotFoundError: No module named 'tensorflow_core.estimator'\n",
            "Traceback (most recent call last):\n",
            "  File \"c:\\Users\\DexTerMtor\\.conda\\envs\\Tensorflow_env\\lib\\site-packages\\IPython\\core\\interactiveshell.py\", line 3343, in run_code\n",
            "    exec(code_obj, self.user_global_ns, self.user_ns)\n",
            "  File \"<ipython-input-1-474784adfc80>\", line 3, in <module>\n",
            "    import matplotlib.pyplot as plt\n",
            "ModuleNotFoundError: No module named 'matplotlib'\n",
            "\n",
            "During handling of the above exception, another exception occurred:\n",
            "\n",
            "Traceback (most recent call last):\n",
            "  File \"c:\\Users\\DexTerMtor\\.conda\\envs\\Tensorflow_env\\lib\\site-packages\\IPython\\core\\interactiveshell.py\", line 2044, in showtraceback\n",
            "    stb = value._render_traceback_()\n",
            "AttributeError: 'ModuleNotFoundError' object has no attribute '_render_traceback_'\n",
            "\n",
            "During handling of the above exception, another exception occurred:\n",
            "\n",
            "Traceback (most recent call last):\n",
            "  File \"c:\\Users\\DexTerMtor\\.conda\\envs\\Tensorflow_env\\lib\\site-packages\\IPython\\core\\interactiveshell.py\", line 3263, in run_ast_nodes\n",
            "    if (await self.run_code(code, result,  async_=asy)):\n",
            "  File \"c:\\Users\\DexTerMtor\\.conda\\envs\\Tensorflow_env\\lib\\site-packages\\IPython\\core\\interactiveshell.py\", line 3360, in run_code\n",
            "    self.showtraceback(running_compiled_code=True)\n",
            "  File \"c:\\Users\\DexTerMtor\\.conda\\envs\\Tensorflow_env\\lib\\site-packages\\IPython\\core\\interactiveshell.py\", line 2047, in showtraceback\n",
            "    value, tb, tb_offset=tb_offset)\n",
            "  File \"c:\\Users\\DexTerMtor\\.conda\\envs\\Tensorflow_env\\lib\\site-packages\\IPython\\core\\ultratb.py\", line 1436, in structured_traceback\n",
            "    self, etype, value, tb, tb_offset, number_of_lines_of_context)\n",
            "  File \"c:\\Users\\DexTerMtor\\.conda\\envs\\Tensorflow_env\\lib\\site-packages\\IPython\\core\\ultratb.py\", line 1336, in structured_traceback\n",
            "    self, etype, value, tb, tb_offset, number_of_lines_of_context\n",
            "  File \"c:\\Users\\DexTerMtor\\.conda\\envs\\Tensorflow_env\\lib\\site-packages\\IPython\\core\\ultratb.py\", line 1193, in structured_traceback\n",
            "    tb_offset)\n",
            "  File \"c:\\Users\\DexTerMtor\\.conda\\envs\\Tensorflow_env\\lib\\site-packages\\IPython\\core\\ultratb.py\", line 1150, in format_exception_as_a_whole\n",
            "    last_unique, recursion_repeat = find_recursion(orig_etype, evalue, records)\n",
            "  File \"c:\\Users\\DexTerMtor\\.conda\\envs\\Tensorflow_env\\lib\\site-packages\\IPython\\core\\ultratb.py\", line 451, in find_recursion\n",
            "    return len(records), 0\n",
            "TypeError: object of type 'NoneType' has no len()\n",
            "\n",
            "During handling of the above exception, another exception occurred:\n",
            "\n",
            "Traceback (most recent call last):\n",
            "  File \"c:\\Users\\DexTerMtor\\.conda\\envs\\Tensorflow_env\\lib\\site-packages\\IPython\\core\\interactiveshell.py\", line 2044, in showtraceback\n",
            "    stb = value._render_traceback_()\n",
            "AttributeError: 'TypeError' object has no attribute '_render_traceback_'\n",
            "\n",
            "During handling of the above exception, another exception occurred:\n",
            "\n",
            "Traceback (most recent call last):\n",
            "  File \"c:\\Users\\DexTerMtor\\.conda\\envs\\Tensorflow_env\\lib\\site-packages\\IPython\\core\\interactiveshell.py\", line 2895, in _run_cell\n",
            "    return runner(coro)\n",
            "  File \"c:\\Users\\DexTerMtor\\.conda\\envs\\Tensorflow_env\\lib\\site-packages\\IPython\\core\\async_helpers.py\", line 68, in _pseudo_sync_runner\n",
            "    coro.send(None)\n",
            "  File \"c:\\Users\\DexTerMtor\\.conda\\envs\\Tensorflow_env\\lib\\site-packages\\IPython\\core\\interactiveshell.py\", line 3072, in run_cell_async\n",
            "    interactivity=interactivity, compiler=compiler, result=result)\n",
            "  File \"c:\\Users\\DexTerMtor\\.conda\\envs\\Tensorflow_env\\lib\\site-packages\\IPython\\core\\interactiveshell.py\", line 3282, in run_ast_nodes\n",
            "    self.showtraceback()\n",
            "  File \"c:\\Users\\DexTerMtor\\.conda\\envs\\Tensorflow_env\\lib\\site-packages\\IPython\\core\\interactiveshell.py\", line 2047, in showtraceback\n",
            "    value, tb, tb_offset=tb_offset)\n",
            "  File \"c:\\Users\\DexTerMtor\\.conda\\envs\\Tensorflow_env\\lib\\site-packages\\IPython\\core\\ultratb.py\", line 1436, in structured_traceback\n",
            "    self, etype, value, tb, tb_offset, number_of_lines_of_context)\n",
            "  File \"c:\\Users\\DexTerMtor\\.conda\\envs\\Tensorflow_env\\lib\\site-packages\\IPython\\core\\ultratb.py\", line 1336, in structured_traceback\n",
            "    self, etype, value, tb, tb_offset, number_of_lines_of_context\n",
            "  File \"c:\\Users\\DexTerMtor\\.conda\\envs\\Tensorflow_env\\lib\\site-packages\\IPython\\core\\ultratb.py\", line 1211, in structured_traceback\n",
            "    chained_exceptions_tb_offset)\n",
            "  File \"c:\\Users\\DexTerMtor\\.conda\\envs\\Tensorflow_env\\lib\\site-packages\\IPython\\core\\ultratb.py\", line 1150, in format_exception_as_a_whole\n",
            "    last_unique, recursion_repeat = find_recursion(orig_etype, evalue, records)\n",
            "  File \"c:\\Users\\DexTerMtor\\.conda\\envs\\Tensorflow_env\\lib\\site-packages\\IPython\\core\\ultratb.py\", line 451, in find_recursion\n",
            "    return len(records), 0\n",
            "TypeError: object of type 'NoneType' has no len()\n",
            "\n",
            "During handling of the above exception, another exception occurred:\n",
            "\n",
            "Traceback (most recent call last):\n",
            "  File \"c:\\Users\\DexTerMtor\\.conda\\envs\\Tensorflow_env\\lib\\site-packages\\IPython\\core\\interactiveshell.py\", line 2044, in showtraceback\n",
            "    stb = value._render_traceback_()\n",
            "AttributeError: 'TypeError' object has no attribute '_render_traceback_'\n",
            "\n",
            "During handling of the above exception, another exception occurred:\n",
            "\n",
            "Traceback (most recent call last):\n",
            "  File \"c:\\Users\\DexTerMtor\\.conda\\envs\\Tensorflow_env\\lib\\site-packages\\IPython\\core\\ultratb.py\", line 1169, in get_records\n",
            "    return _fixed_getinnerframes(etb, number_of_lines_of_context, tb_offset)\n",
            "  File \"c:\\Users\\DexTerMtor\\.conda\\envs\\Tensorflow_env\\lib\\site-packages\\IPython\\core\\ultratb.py\", line 316, in wrapped\n",
            "    return f(*args, **kwargs)\n",
            "  File \"c:\\Users\\DexTerMtor\\.conda\\envs\\Tensorflow_env\\lib\\site-packages\\IPython\\core\\ultratb.py\", line 350, in _fixed_getinnerframes\n",
            "    records = fix_frame_records_filenames(inspect.getinnerframes(etb, context))\n",
            "  File \"c:\\Users\\DexTerMtor\\.conda\\envs\\Tensorflow_env\\lib\\inspect.py\", line 1490, in getinnerframes\n",
            "    frameinfo = (tb.tb_frame,) + getframeinfo(tb, context)\n",
            "  File \"c:\\Users\\DexTerMtor\\.conda\\envs\\Tensorflow_env\\lib\\inspect.py\", line 1448, in getframeinfo\n",
            "    filename = getsourcefile(frame) or getfile(frame)\n",
            "  File \"c:\\Users\\DexTerMtor\\.conda\\envs\\Tensorflow_env\\lib\\inspect.py\", line 696, in getsourcefile\n",
            "    if getattr(getmodule(object, filename), '__loader__', None) is not None:\n",
            "  File \"c:\\Users\\DexTerMtor\\.conda\\envs\\Tensorflow_env\\lib\\inspect.py\", line 733, in getmodule\n",
            "    if ismodule(module) and hasattr(module, '__file__'):\n",
            "  File \"c:\\Users\\DexTerMtor\\.conda\\envs\\Tensorflow_env\\lib\\site-packages\\tensorflow\\__init__.py\", line 50, in __getattr__\n",
            "    module = self._load()\n",
            "  File \"c:\\Users\\DexTerMtor\\.conda\\envs\\Tensorflow_env\\lib\\site-packages\\tensorflow\\__init__.py\", line 44, in _load\n",
            "    module = _importlib.import_module(self.__name__)\n",
            "  File \"c:\\Users\\DexTerMtor\\.conda\\envs\\Tensorflow_env\\lib\\importlib\\__init__.py\", line 126, in import_module\n",
            "    return _bootstrap._gcd_import(name[level:], package, level)\n",
            "  File \"<frozen importlib._bootstrap>\", line 994, in _gcd_import\n",
            "  File \"<frozen importlib._bootstrap>\", line 971, in _find_and_load\n",
            "  File \"<frozen importlib._bootstrap>\", line 953, in _find_and_load_unlocked\n",
            "ModuleNotFoundError: No module named 'tensorflow_core.estimator'\n"
          ]
        }
      ],
      "source": [
        "import numpy as np\n",
        "import tensorflow as tf\n",
        "import matplotlib.pyplot as plt"
      ]
    },
    {
      "cell_type": "code",
      "execution_count": null,
      "metadata": {},
      "outputs": [],
      "source": [
        "print(tf.test.is_gpu_available())"
      ]
    },
    {
      "cell_type": "markdown",
      "metadata": {
        "id": "tXU6T_PWgrDo"
      },
      "source": [
        "#Data Preprocessing\n"
      ]
    },
    {
      "cell_type": "markdown",
      "metadata": {
        "id": "JUid3gFLhkAA"
      },
      "source": [
        "###Traning Image preprocessing"
      ]
    },
    {
      "cell_type": "code",
      "execution_count": null,
      "metadata": {
        "colab": {
          "base_uri": "https://localhost:8080/"
        },
        "id": "m5vOzDMIgylU",
        "outputId": "7b155600-68b8-4f04-8346-e4ea1f3d8237"
      },
      "outputs": [],
      "source": [
        "training_set = tf.keras.utils.image_dataset_from_directory(\n",
        "    'fruit-and-vegetable-image-recognition/train',\n",
        "    labels = 'inferred',\n",
        "    label_mode = 'categorical',\n",
        "    class_names = None,\n",
        "    color_mode = 'rgb',\n",
        "    batch_size = 32,\n",
        "    image_size = (64,64),\n",
        "    shuffle = True,\n",
        "    seed = None,\n",
        "    validation_split = None,\n",
        "    subset = None,\n",
        "    interpolation = 'bilinear',\n",
        "    follow_links = False,\n",
        "    crop_to_aspect_ratio = False\n",
        ")"
      ]
    },
    {
      "cell_type": "markdown",
      "metadata": {
        "id": "lfZEKX6sXrL7"
      },
      "source": [
        "###validation image preprocessing"
      ]
    },
    {
      "cell_type": "code",
      "execution_count": null,
      "metadata": {
        "colab": {
          "base_uri": "https://localhost:8080/"
        },
        "id": "jdUrAU2IXvr1",
        "outputId": "0fb0cc28-b72f-494a-f619-b2f183d961a9"
      },
      "outputs": [],
      "source": [
        "validation_set = tf.keras.utils.image_dataset_from_directory(\n",
        "    'fruit-and-vegetable-image-recognition/validation',\n",
        "    labels = 'inferred',\n",
        "    label_mode = 'categorical',\n",
        "    class_names = None,\n",
        "    color_mode = 'rgb',\n",
        "    batch_size = 32,\n",
        "    image_size = (64,64),\n",
        "    shuffle = True,\n",
        "    seed = None,\n",
        "    validation_split = None,\n",
        "    subset = None,\n",
        "    interpolation = 'bilinear',\n",
        "    follow_links = False,\n",
        "    crop_to_aspect_ratio = False\n",
        ")"
      ]
    },
    {
      "cell_type": "markdown",
      "metadata": {
        "id": "xcVSoynXZYsZ"
      },
      "source": [
        "#Building Model"
      ]
    },
    {
      "cell_type": "code",
      "execution_count": 28,
      "metadata": {
        "id": "ACaJsmPGd4SX"
      },
      "outputs": [],
      "source": [
        "cnn = tf.keras.models.Sequential()"
      ]
    },
    {
      "cell_type": "markdown",
      "metadata": {
        "id": "tfyuLEr4eSS2"
      },
      "source": [
        "###Building Convolution Layer"
      ]
    },
    {
      "cell_type": "code",
      "execution_count": null,
      "metadata": {
        "id": "f7dm9z9heP2B"
      },
      "outputs": [],
      "source": [
        "cnn.add(tf.keras.layers.Conv2D(filters=64,kernel_size=3,activation='relu',input_shape=(64,64,3)))\n",
        "cnn.add(tf.keras.layers.MaxPool2D(pool_size=2,strides=2))"
      ]
    },
    {
      "cell_type": "code",
      "execution_count": 30,
      "metadata": {
        "id": "LVeeUWhUfGyy"
      },
      "outputs": [],
      "source": [
        "cnn.add(tf.keras.layers.Conv2D(filters=64,kernel_size=3,activation='relu'))\n",
        "cnn.add(tf.keras.layers.MaxPool2D(pool_size=2,strides=2))"
      ]
    },
    {
      "cell_type": "code",
      "execution_count": 31,
      "metadata": {
        "id": "TcC7BqRIfVS4"
      },
      "outputs": [],
      "source": [
        "cnn.add(tf.keras.layers.Dropout(0.5)) #To avoid overfitting"
      ]
    },
    {
      "cell_type": "code",
      "execution_count": 32,
      "metadata": {
        "id": "wiNI4qHIyEMJ"
      },
      "outputs": [],
      "source": [
        "cnn.add(tf.keras.layers.Flatten())"
      ]
    },
    {
      "cell_type": "code",
      "execution_count": 33,
      "metadata": {
        "id": "DNOm1U3V0D0M"
      },
      "outputs": [],
      "source": [
        "cnn.add(tf.keras.layers.Dense(units=128,activation='relu'))"
      ]
    },
    {
      "cell_type": "code",
      "execution_count": 34,
      "metadata": {
        "id": "G3Uha-xr0fXv"
      },
      "outputs": [],
      "source": [
        "cnn.add(tf.keras.layers.Dense(units=36,activation='softmax'))"
      ]
    },
    {
      "cell_type": "markdown",
      "metadata": {
        "id": "_3p41bCRoJZ5"
      },
      "source": [
        "##Compiling and Training Phase"
      ]
    },
    {
      "cell_type": "code",
      "execution_count": 35,
      "metadata": {
        "id": "M13_SlTCoR00"
      },
      "outputs": [],
      "source": [
        "cnn.compile(optimizer='rmsprop',loss='categorical_crossentropy',metrics=['accuracy'])"
      ]
    },
    {
      "cell_type": "code",
      "execution_count": null,
      "metadata": {
        "id": "81iw9u0_okpg"
      },
      "outputs": [],
      "source": [
        "training_history = cnn.fit(x=training_set,validation_data=validation_set,epochs=30)"
      ]
    }
  ],
  "metadata": {
    "colab": {
      "provenance": []
    },
    "kernelspec": {
      "display_name": "Python 3",
      "name": "python3"
    },
    "language_info": {
      "codemirror_mode": {
        "name": "ipython",
        "version": 3
      },
      "file_extension": ".py",
      "mimetype": "text/x-python",
      "name": "python",
      "nbconvert_exporter": "python",
      "pygments_lexer": "ipython3",
      "version": "3.6.15"
    }
  },
  "nbformat": 4,
  "nbformat_minor": 0
}
