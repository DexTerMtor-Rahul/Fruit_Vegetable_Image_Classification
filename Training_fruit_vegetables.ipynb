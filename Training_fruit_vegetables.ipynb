{
 "cells": [
  {
   "cell_type": "markdown",
   "metadata": {
    "id": "oEVBWJgngJJR"
   },
   "source": [
    "#Importing libraries"
   ]
  },
  {
   "cell_type": "code",
   "execution_count": 2,
   "metadata": {
    "id": "ycSY8L7YgaGw"
   },
   "outputs": [],
   "source": [
    "import tensorflow as tf\n",
    "import matplotlib.pyplot as plt"
   ]
  },
  {
   "cell_type": "markdown",
   "metadata": {
    "id": "tXU6T_PWgrDo"
   },
   "source": [
    "#Data Preprocessing\n"
   ]
  },
  {
   "cell_type": "markdown",
   "metadata": {
    "id": "JUid3gFLhkAA"
   },
   "source": [
    "###Traning Image preprocessing"
   ]
  },
  {
   "cell_type": "code",
   "execution_count": 3,
   "metadata": {
    "colab": {
     "base_uri": "https://localhost:8080/"
    },
    "id": "m5vOzDMIgylU",
    "outputId": "7b155600-68b8-4f04-8346-e4ea1f3d8237"
   },
   "outputs": [
    {
     "name": "stdout",
     "output_type": "stream",
     "text": [
      "Found 3115 files belonging to 36 classes.\n"
     ]
    }
   ],
   "source": [
    "training_set = tf.keras.utils.image_dataset_from_directory(\n",
    "    'fruit-and-vegetable-image-recognition/train',\n",
    "    labels = 'inferred',\n",
    "    label_mode = 'categorical',\n",
    "    class_names = None,\n",
    "    color_mode = 'rgb',\n",
    "    batch_size = 32,\n",
    "    image_size = (64,64),\n",
    "    shuffle = True,\n",
    "    seed = None,\n",
    "    validation_split = None,\n",
    "    subset = None,\n",
    "    interpolation = 'bilinear',\n",
    "    follow_links = False,\n",
    "    crop_to_aspect_ratio = False\n",
    ")"
   ]
  },
  {
   "cell_type": "markdown",
   "metadata": {
    "id": "lfZEKX6sXrL7"
   },
   "source": [
    "###validation image preprocessing"
   ]
  },
  {
   "cell_type": "code",
   "execution_count": 4,
   "metadata": {
    "colab": {
     "base_uri": "https://localhost:8080/"
    },
    "id": "jdUrAU2IXvr1",
    "outputId": "0fb0cc28-b72f-494a-f619-b2f183d961a9"
   },
   "outputs": [
    {
     "name": "stdout",
     "output_type": "stream",
     "text": [
      "Found 351 files belonging to 36 classes.\n"
     ]
    }
   ],
   "source": [
    "validation_set = tf.keras.utils.image_dataset_from_directory(\n",
    "    'fruit-and-vegetable-image-recognition/validation',\n",
    "    labels = 'inferred',\n",
    "    label_mode = 'categorical',\n",
    "    class_names = None,\n",
    "    color_mode = 'rgb',\n",
    "    batch_size = 32,\n",
    "    image_size = (64,64),\n",
    "    shuffle = True,\n",
    "    seed = None,\n",
    "    validation_split = None,\n",
    "    subset = None,\n",
    "    interpolation = 'bilinear',\n",
    "    follow_links = False,\n",
    "    crop_to_aspect_ratio = False\n",
    ")"
   ]
  },
  {
   "cell_type": "markdown",
   "metadata": {
    "id": "xcVSoynXZYsZ"
   },
   "source": [
    "#Building Model"
   ]
  },
  {
   "cell_type": "code",
   "execution_count": 8,
   "metadata": {
    "id": "ACaJsmPGd4SX"
   },
   "outputs": [
    {
     "name": "stdout",
     "output_type": "stream",
     "text": [
      "Model: \"sequential_3\"\n",
      "_________________________________________________________________\n",
      " Layer (type)                Output Shape              Param #   \n",
      "=================================================================\n",
      " conv2d_10 (Conv2D)          (None, 64, 64, 32)        896       \n",
      "                                                                 \n",
      " conv2d_11 (Conv2D)          (None, 62, 62, 32)        9248      \n",
      "                                                                 \n",
      " max_pooling2d_6 (MaxPooling  (None, 31, 31, 32)       0         \n",
      " 2D)                                                             \n",
      "                                                                 \n",
      " dropout_3 (Dropout)         (None, 31, 31, 32)        0         \n",
      "                                                                 \n",
      " conv2d_12 (Conv2D)          (None, 31, 31, 64)        18496     \n",
      "                                                                 \n",
      " conv2d_13 (Conv2D)          (None, 29, 29, 64)        36928     \n",
      "                                                                 \n",
      " max_pooling2d_7 (MaxPooling  (None, 14, 14, 64)       0         \n",
      " 2D)                                                             \n",
      "                                                                 \n",
      " dropout_4 (Dropout)         (None, 14, 14, 64)        0         \n",
      "                                                                 \n",
      " flatten_3 (Flatten)         (None, 12544)             0         \n",
      "                                                                 \n",
      " dense_8 (Dense)             (None, 512)               6423040   \n",
      "                                                                 \n",
      " dense_9 (Dense)             (None, 256)               131328    \n",
      "                                                                 \n",
      " dropout_5 (Dropout)         (None, 256)               0         \n",
      "                                                                 \n",
      " dense_10 (Dense)            (None, 36)                9252      \n",
      "                                                                 \n",
      "=================================================================\n",
      "Total params: 6,629,188\n",
      "Trainable params: 6,629,188\n",
      "Non-trainable params: 0\n",
      "_________________________________________________________________\n",
      "Epoch 1/33\n",
      "98/98 [==============================] - 17s 150ms/step - loss: 8.1839 - accuracy: 0.0263 - val_loss: 3.5829 - val_accuracy: 0.0228\n",
      "Epoch 2/33\n",
      "98/98 [==============================] - 15s 145ms/step - loss: 3.5811 - accuracy: 0.0334 - val_loss: 3.5746 - val_accuracy: 0.0399\n",
      "Epoch 3/33\n",
      "98/98 [==============================] - 15s 145ms/step - loss: 3.5755 - accuracy: 0.0395 - val_loss: 3.5742 - val_accuracy: 0.0427\n",
      "Epoch 4/33\n",
      "98/98 [==============================] - 15s 145ms/step - loss: 3.5193 - accuracy: 0.0555 - val_loss: 3.5226 - val_accuracy: 0.0712\n",
      "Epoch 5/33\n",
      "98/98 [==============================] - 15s 143ms/step - loss: 3.4276 - accuracy: 0.0767 - val_loss: 3.2191 - val_accuracy: 0.1311\n",
      "Epoch 6/33\n",
      "98/98 [==============================] - 16s 149ms/step - loss: 3.2089 - accuracy: 0.1127 - val_loss: 2.7519 - val_accuracy: 0.2564\n",
      "Epoch 7/33\n",
      "98/98 [==============================] - 16s 146ms/step - loss: 3.0641 - accuracy: 0.1300 - val_loss: 2.5708 - val_accuracy: 0.2991\n",
      "Epoch 8/33\n",
      "98/98 [==============================] - 16s 148ms/step - loss: 2.8178 - accuracy: 0.1891 - val_loss: 2.3492 - val_accuracy: 0.3818\n",
      "Epoch 9/33\n",
      "98/98 [==============================] - 15s 144ms/step - loss: 2.6410 - accuracy: 0.2552 - val_loss: 1.8661 - val_accuracy: 0.5328\n",
      "Epoch 10/33\n",
      "98/98 [==============================] - 15s 145ms/step - loss: 2.4212 - accuracy: 0.3130 - val_loss: 1.5507 - val_accuracy: 0.6410\n",
      "Epoch 11/33\n",
      "98/98 [==============================] - 15s 143ms/step - loss: 2.1372 - accuracy: 0.3900 - val_loss: 1.2803 - val_accuracy: 0.7066\n",
      "Epoch 12/33\n",
      "98/98 [==============================] - 15s 145ms/step - loss: 1.9311 - accuracy: 0.4478 - val_loss: 1.0443 - val_accuracy: 0.7464\n",
      "Epoch 13/33\n",
      "98/98 [==============================] - 15s 143ms/step - loss: 1.6997 - accuracy: 0.5050 - val_loss: 1.1198 - val_accuracy: 0.7123\n",
      "Epoch 14/33\n",
      "98/98 [==============================] - 15s 143ms/step - loss: 1.5702 - accuracy: 0.5374 - val_loss: 0.8095 - val_accuracy: 0.8063\n",
      "Epoch 15/33\n",
      "98/98 [==============================] - 15s 145ms/step - loss: 1.3552 - accuracy: 0.6039 - val_loss: 0.6879 - val_accuracy: 0.8177\n",
      "Epoch 16/33\n",
      "98/98 [==============================] - 15s 144ms/step - loss: 1.1885 - accuracy: 0.6526 - val_loss: 0.6723 - val_accuracy: 0.8319\n",
      "Epoch 17/33\n",
      "98/98 [==============================] - 15s 144ms/step - loss: 1.0406 - accuracy: 0.6892 - val_loss: 0.6921 - val_accuracy: 0.8661\n",
      "Epoch 18/33\n",
      "98/98 [==============================] - 15s 144ms/step - loss: 1.0216 - accuracy: 0.7024 - val_loss: 0.6031 - val_accuracy: 0.8689\n",
      "Epoch 19/33\n",
      "98/98 [==============================] - 15s 142ms/step - loss: 0.8602 - accuracy: 0.7457 - val_loss: 0.5975 - val_accuracy: 0.8775\n",
      "Epoch 20/33\n",
      "98/98 [==============================] - 15s 145ms/step - loss: 0.8755 - accuracy: 0.7538 - val_loss: 0.5445 - val_accuracy: 0.8803\n",
      "Epoch 21/33\n",
      "98/98 [==============================] - 15s 143ms/step - loss: 0.7192 - accuracy: 0.7913 - val_loss: 0.5289 - val_accuracy: 0.8889\n",
      "Epoch 22/33\n",
      "98/98 [==============================] - 15s 145ms/step - loss: 0.6651 - accuracy: 0.8051 - val_loss: 0.5061 - val_accuracy: 0.9003\n",
      "Epoch 23/33\n",
      "98/98 [==============================] - 15s 143ms/step - loss: 0.6024 - accuracy: 0.8183 - val_loss: 0.5691 - val_accuracy: 0.8632\n",
      "Epoch 24/33\n",
      "98/98 [==============================] - 15s 144ms/step - loss: 0.5628 - accuracy: 0.8369 - val_loss: 0.4330 - val_accuracy: 0.9031\n",
      "Epoch 25/33\n",
      "98/98 [==============================] - 15s 145ms/step - loss: 0.4849 - accuracy: 0.8600 - val_loss: 0.4648 - val_accuracy: 0.9060\n",
      "Epoch 26/33\n",
      "98/98 [==============================] - 15s 143ms/step - loss: 0.6035 - accuracy: 0.8398 - val_loss: 0.3887 - val_accuracy: 0.9145\n",
      "Epoch 27/33\n",
      "98/98 [==============================] - 15s 144ms/step - loss: 0.4886 - accuracy: 0.8607 - val_loss: 0.3930 - val_accuracy: 0.9316\n",
      "Epoch 28/33\n",
      "98/98 [==============================] - 15s 145ms/step - loss: 0.4920 - accuracy: 0.8626 - val_loss: 0.3409 - val_accuracy: 0.9345\n",
      "Epoch 29/33\n",
      "98/98 [==============================] - 15s 146ms/step - loss: 0.4284 - accuracy: 0.8812 - val_loss: 0.3892 - val_accuracy: 0.9373\n",
      "Epoch 30/33\n",
      "98/98 [==============================] - 15s 145ms/step - loss: 0.4174 - accuracy: 0.8860 - val_loss: 0.3980 - val_accuracy: 0.9459\n",
      "Epoch 31/33\n",
      "98/98 [==============================] - 16s 145ms/step - loss: 0.3609 - accuracy: 0.8931 - val_loss: 0.3026 - val_accuracy: 0.9487\n",
      "Epoch 32/33\n",
      "98/98 [==============================] - 15s 143ms/step - loss: 0.3224 - accuracy: 0.8998 - val_loss: 0.4063 - val_accuracy: 0.9402\n",
      "Epoch 33/33\n",
      "98/98 [==============================] - 15s 145ms/step - loss: 0.3952 - accuracy: 0.8896 - val_loss: 0.3336 - val_accuracy: 0.9316\n"
     ]
    }
   ],
   "source": [
    "with tf.device('/device:GPU:0'):\n",
    "     cnn = tf.keras.models.Sequential()\n",
    "     ###Building Convolution Layer\n",
    "     cnn.add(tf.keras.layers.Conv2D(filters=32,kernel_size=3,padding='same',activation='relu',input_shape=[64,64,3]))\n",
    "     cnn.add(tf.keras.layers.Conv2D(filters=32,kernel_size=3,activation='relu'))\n",
    "     cnn.add(tf.keras.layers.MaxPool2D(pool_size=2,strides=2))\n",
    "     cnn.add(tf.keras.layers.Dropout(0.25))\n",
    "     \n",
    "     cnn.add(tf.keras.layers.Conv2D(filters=64,kernel_size=3,padding='same',activation='relu'))\n",
    "     cnn.add(tf.keras.layers.Conv2D(filters=64,kernel_size=3,activation='relu'))\n",
    "     cnn.add(tf.keras.layers.MaxPool2D(pool_size=2,strides=2))\n",
    "     cnn.add(tf.keras.layers.Dropout(0.25))\n",
    "\n",
    "     cnn.add(tf.keras.layers.Flatten())\n",
    "     cnn.add(tf.keras.layers.Dense(units=512,activation='relu'))\n",
    "     cnn.add(tf.keras.layers.Dense(units=256,activation='relu'))\n",
    "     \n",
    "     cnn.add(tf.keras.layers.Dropout(0.5)) #To avoid overfitting\n",
    "     \n",
    "     #Outer Layer\n",
    "     cnn.add(tf.keras.layers.Dense(units=36,activation='softmax'))\n",
    "     \n",
    "     ##Compiling and Training Phase\n",
    "     cnn.compile(optimizer='adam',loss='categorical_crossentropy',metrics=['accuracy'])\n",
    "     cnn.summary()\n",
    "     training_history = cnn.fit(x=training_set,validation_data=validation_set,epochs=33)"
   ]
  },
  {
   "cell_type": "markdown",
   "metadata": {},
   "source": [
    "Saving Model"
   ]
  },
  {
   "cell_type": "code",
   "execution_count": 9,
   "metadata": {},
   "outputs": [],
   "source": [
    "cnn.save('trained_model.h5')"
   ]
  },
  {
   "cell_type": "code",
   "execution_count": 10,
   "metadata": {},
   "outputs": [
    {
     "data": {
      "text/plain": [
       "{'loss': [8.183857917785645,\n",
       "  3.581143617630005,\n",
       "  3.5754687786102295,\n",
       "  3.519338846206665,\n",
       "  3.427638053894043,\n",
       "  3.2088623046875,\n",
       "  3.0640757083892822,\n",
       "  2.8177592754364014,\n",
       "  2.641040802001953,\n",
       "  2.4212186336517334,\n",
       "  2.1371777057647705,\n",
       "  1.931127905845642,\n",
       "  1.6996527910232544,\n",
       "  1.5701760053634644,\n",
       "  1.355178713798523,\n",
       "  1.1884583234786987,\n",
       "  1.0406465530395508,\n",
       "  1.0215719938278198,\n",
       "  0.8602306246757507,\n",
       "  0.8754501342773438,\n",
       "  0.719231367111206,\n",
       "  0.6650938391685486,\n",
       "  0.6023935079574585,\n",
       "  0.5628127455711365,\n",
       "  0.4849149286746979,\n",
       "  0.6034672856330872,\n",
       "  0.4885517954826355,\n",
       "  0.4920404553413391,\n",
       "  0.4284043610095978,\n",
       "  0.4174235761165619,\n",
       "  0.3609306812286377,\n",
       "  0.32240599393844604,\n",
       "  0.3951953649520874],\n",
       " 'accuracy': [0.026324236765503883,\n",
       "  0.03338683769106865,\n",
       "  0.0394863560795784,\n",
       "  0.055537719279527664,\n",
       "  0.07672552019357681,\n",
       "  0.1126805767416954,\n",
       "  0.13001605868339539,\n",
       "  0.18908506631851196,\n",
       "  0.25521668791770935,\n",
       "  0.3130016028881073,\n",
       "  0.39004814624786377,\n",
       "  0.4478330612182617,\n",
       "  0.5049759149551392,\n",
       "  0.5373996496200562,\n",
       "  0.6038523316383362,\n",
       "  0.6526484489440918,\n",
       "  0.6892455816268921,\n",
       "  0.702407717704773,\n",
       "  0.745746374130249,\n",
       "  0.7537720799446106,\n",
       "  0.7913322448730469,\n",
       "  0.8051364421844482,\n",
       "  0.8182985782623291,\n",
       "  0.8369181156158447,\n",
       "  0.8600320816040039,\n",
       "  0.839807391166687,\n",
       "  0.8606741428375244,\n",
       "  0.8626003265380859,\n",
       "  0.8812199234962463,\n",
       "  0.8860353231430054,\n",
       "  0.8930979371070862,\n",
       "  0.899839460849762,\n",
       "  0.8895666003227234],\n",
       " 'val_loss': [3.582853078842163,\n",
       "  3.5746328830718994,\n",
       "  3.5741519927978516,\n",
       "  3.522599458694458,\n",
       "  3.219123125076294,\n",
       "  2.7519068717956543,\n",
       "  2.5708200931549072,\n",
       "  2.3491568565368652,\n",
       "  1.8660777807235718,\n",
       "  1.5507409572601318,\n",
       "  1.2802798748016357,\n",
       "  1.044335961341858,\n",
       "  1.1197775602340698,\n",
       "  0.809544026851654,\n",
       "  0.6879205703735352,\n",
       "  0.6722515225410461,\n",
       "  0.6921036243438721,\n",
       "  0.6031097173690796,\n",
       "  0.597529947757721,\n",
       "  0.5444718599319458,\n",
       "  0.528895914554596,\n",
       "  0.5061127543449402,\n",
       "  0.5690711140632629,\n",
       "  0.4329884350299835,\n",
       "  0.46475350856781006,\n",
       "  0.38866379857063293,\n",
       "  0.3929535150527954,\n",
       "  0.3409252464771271,\n",
       "  0.3891502022743225,\n",
       "  0.3979654014110565,\n",
       "  0.3025978207588196,\n",
       "  0.4063095152378082,\n",
       "  0.3336299955844879],\n",
       " 'val_accuracy': [0.022792022675275803,\n",
       "  0.03988603875041008,\n",
       "  0.04273504391312599,\n",
       "  0.07122506946325302,\n",
       "  0.1310541331768036,\n",
       "  0.25641027092933655,\n",
       "  0.29914531111717224,\n",
       "  0.3817663788795471,\n",
       "  0.5327635407447815,\n",
       "  0.6410256624221802,\n",
       "  0.7065526843070984,\n",
       "  0.74643874168396,\n",
       "  0.7122507095336914,\n",
       "  0.8062677979469299,\n",
       "  0.8176637887954712,\n",
       "  0.8319088220596313,\n",
       "  0.8660968542098999,\n",
       "  0.8689458966255188,\n",
       "  0.8774929046630859,\n",
       "  0.8803418874740601,\n",
       "  0.8888888955116272,\n",
       "  0.9002848863601685,\n",
       "  0.8632478713989258,\n",
       "  0.9031339287757874,\n",
       "  0.9059829115867615,\n",
       "  0.9145299196243286,\n",
       "  0.9316239356994629,\n",
       "  0.934472918510437,\n",
       "  0.9373219609260559,\n",
       "  0.945868968963623,\n",
       "  0.9487179517745972,\n",
       "  0.94017094373703,\n",
       "  0.9316239356994629]}"
      ]
     },
     "execution_count": 10,
     "metadata": {},
     "output_type": "execute_result"
    }
   ],
   "source": [
    "training_history.history #returning dictionary of loss and accuracy"
   ]
  },
  {
   "cell_type": "code",
   "execution_count": 11,
   "metadata": {},
   "outputs": [],
   "source": [
    "#Recoding the training history\n",
    "import json\n",
    "with open('training_history.json','w') as f:\n",
    "    json.dump(str(training_history.history),f)"
   ]
  },
  {
   "cell_type": "markdown",
   "metadata": {},
   "source": [
    "Calculating Accuracy of Model achieved on validation data"
   ]
  },
  {
   "cell_type": "code",
   "execution_count": 12,
   "metadata": {},
   "outputs": [
    {
     "data": {
      "text/plain": [
       "dict_keys(['loss', 'accuracy', 'val_loss', 'val_accuracy'])"
      ]
     },
     "execution_count": 12,
     "metadata": {},
     "output_type": "execute_result"
    }
   ],
   "source": [
    "training_history.history.keys()"
   ]
  },
  {
   "cell_type": "code",
   "execution_count": 13,
   "metadata": {},
   "outputs": [
    {
     "name": "stdout",
     "output_type": "stream",
     "text": [
      "Validation set Accuracy 93.16239356994629% \n"
     ]
    }
   ],
   "source": [
    "print(\"Validation set Accuracy {}% \".format(training_history.history['val_accuracy'][-1] * 100)) #returning the last validation accuracy"
   ]
  },
  {
   "cell_type": "markdown",
   "metadata": {},
   "source": [
    "Accuracy visualization"
   ]
  },
  {
   "cell_type": "markdown",
   "metadata": {},
   "source": [
    "Training Visualization\n"
   ]
  },
  {
   "cell_type": "code",
   "execution_count": 15,
   "metadata": {},
   "outputs": [
    {
     "data": {
      "image/png": "[encoded data removed]",
      "text/plain": [
       "<Figure size 640x480 with 1 Axes>"
      ]
     },
     "metadata": {},
     "output_type": "display_data"
    }
   ],
   "source": [
    "epochs = [i for i in range(1,34)]\n",
    "plt.plot(epochs,training_history.history['accuracy'], color=\"red\")\n",
    "plt.title('Visualization of Training Accuracy Result')\n",
    "plt.xlabel('No of Epochs')\n",
    "plt.ylabel('Training Accuracy')\n",
    "plt.show()"
   ]
  },
  {
   "cell_type": "markdown",
   "metadata": {},
   "source": [
    "Validation Accuracy Visualization"
   ]
  },
  {
   "cell_type": "code",
   "execution_count": 16,
   "metadata": {},
   "outputs": [
    {
     "data": {
      "image/png": "[encoded data removed]",
      "text/plain": [
       "<Figure size 640x480 with 1 Axes>"
      ]
     },
     "metadata": {},
     "output_type": "display_data"
    }
   ],
   "source": [
    "plt.plot(epochs,training_history.history['val_accuracy'], color=\"blue\")\n",
    "plt.title('Visualization of Validation Accuracy Result')\n",
    "plt.xlabel('No of Epochs')\n",
    "plt.ylabel('Validation Accuracy')\n",
    "plt.show()"
   ]
  },
  {
   "cell_type": "markdown",
   "metadata": {},
   "source": [
    "Evaluating CNN Model"
   ]
  },
  {
   "cell_type": "code",
   "execution_count": 17,
   "metadata": {},
   "outputs": [
    {
     "name": "stdout",
     "output_type": "stream",
     "text": [
      "98/98 [==============================] - 13s 125ms/step - loss: 0.1062 - accuracy: 0.9701\n"
     ]
    }
   ],
   "source": [
    "tarining_loss, training_accuracy = cnn.evaluate(training_set)"
   ]
  },
  {
   "cell_type": "code",
   "execution_count": 18,
   "metadata": {},
   "outputs": [
    {
     "name": "stdout",
     "output_type": "stream",
     "text": [
      "11/11 [==============================] - 2s 30ms/step - loss: 0.3336 - accuracy: 0.9316\n"
     ]
    }
   ],
   "source": [
    "validation_loss, validation_accuracy = cnn.evaluate(validation_set)"
   ]
  },
  {
   "cell_type": "markdown",
   "metadata": {},
   "source": [
    "Test Set Evaluation"
   ]
  },
  {
   "cell_type": "code",
   "execution_count": 19,
   "metadata": {},
   "outputs": [
    {
     "name": "stdout",
     "output_type": "stream",
     "text": [
      "Found 359 files belonging to 36 classes.\n"
     ]
    }
   ],
   "source": [
    "test_set = tf.keras.utils.image_dataset_from_directory(\n",
    "    'fruit-and-vegetable-image-recognition/test',\n",
    "    labels = 'inferred',\n",
    "    label_mode = 'categorical',\n",
    "    class_names = None,\n",
    "    color_mode = 'rgb',\n",
    "    batch_size = 32,\n",
    "    image_size = (64,64),\n",
    "    shuffle = True,\n",
    "    seed = None,\n",
    "    validation_split = None,\n",
    "    subset = None,\n",
    "    interpolation = 'bilinear',\n",
    "    follow_links = False,\n",
    "    crop_to_aspect_ratio = False\n",
    ")"
   ]
  },
  {
   "cell_type": "code",
   "execution_count": 20,
   "metadata": {},
   "outputs": [
    {
     "name": "stdout",
     "output_type": "stream",
     "text": [
      "12/12 [==============================] - 3s 80ms/step - loss: 0.3262 - accuracy: 0.9331\n"
     ]
    }
   ],
   "source": [
    "test_loss, test_accuracy = cnn.evaluate(test_set)"
   ]
  }
 ],
 "metadata": {
  "colab": {
   "provenance": []
  },
  "kernelspec": {
   "display_name": "Python 3 (ipykernel)",
   "language": "python",
   "name": "python3"
  },
  "language_info": {
   "codemirror_mode": {
    "name": "ipython",
    "version": 3
   },
   "file_extension": ".py",
   "mimetype": "text/x-python",
   "name": "python",
   "nbconvert_exporter": "python",
   "pygments_lexer": "ipython3",
   "version": "3.10.14"
  }
 },
 "nbformat": 4,
 "nbformat_minor": 4
}
